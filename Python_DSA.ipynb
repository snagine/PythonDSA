{
  "nbformat": 4,
  "nbformat_minor": 0,
  "metadata": {
    "colab": {
      "provenance": [],
      "authorship_tag": "ABX9TyOJZsxvBO10Tvv+CF8Ru6Kf",
      "include_colab_link": true
    },
    "kernelspec": {
      "name": "python3",
      "display_name": "Python 3"
    },
    "language_info": {
      "name": "python"
    }
  },
  "cells": [
    {
      "cell_type": "markdown",
      "metadata": {
        "id": "view-in-github",
        "colab_type": "text"
      },
      "source": [
        "<a href=\"https://colab.research.google.com/github/snagine/PythonDSA/blob/main/Python_DSA.ipynb\" target=\"_parent\"><img src=\"https://colab.research.google.com/assets/colab-badge.svg\" alt=\"Open In Colab\"/></a>"
      ]
    },
    {
      "cell_type": "markdown",
      "source": [
        "# **Python DSA** 🌼"
      ],
      "metadata": {
        "id": "mLebB-Q72b_8"
      }
    },
    {
      "cell_type": "markdown",
      "source": [
        "**Selection Sort**\n",
        "Time complexity O(n2)\n",
        "Space complexity O(1)"
      ],
      "metadata": {
        "id": "hAiQsCJ02NI-"
      }
    },
    {
      "cell_type": "code",
      "source": [
        "def selection_sort(l):\n",
        "\n",
        "  for i in range(len(l)):\n",
        "    for j in range(i+1,len(l)):\n",
        "      if l[i] > l[j] :\n",
        "        l[i], l[j] = l[j], l[i]\n",
        "  return l\n",
        "\n",
        "l = [7, 6, 3, 9, 2, 4, 1]\n",
        "print(selection_sort(l))"
      ],
      "metadata": {
        "colab": {
          "base_uri": "https://localhost:8080/"
        },
        "id": "plRw6SQe2TMA",
        "outputId": "c6338d84-c6df-4398-a817-9f9f2f725fca"
      },
      "execution_count": null,
      "outputs": [
        {
          "output_type": "stream",
          "name": "stdout",
          "text": [
            "[1, 2, 3, 4, 6, 7, 9]\n"
          ]
        }
      ]
    },
    {
      "cell_type": "markdown",
      "source": [
        "# Is Palindrome ?\n",
        "\n",
        "Input: s = \"A man, a plan, a canal: Panama\"\n",
        "\n",
        "Output: true\n",
        "\n",
        "Input: s = \"race a car\"\n",
        "\n",
        "Output: false\n",
        "\n",
        "Input: s = \" \"\n",
        "\n",
        "Output: true"
      ],
      "metadata": {
        "id": "_jSwNnqhbS44"
      }
    },
    {
      "cell_type": "code",
      "source": [
        "def isPalindrome(s):\n",
        "        \"\"\"\n",
        "        :type s: str\n",
        "        :rtype: bool\n",
        "        \"\"\"\n",
        "        is_palin = True\n",
        "        #convert to lower after checking it is non-alpha\n",
        "        s = ''.join([char.lower() for char in s if char.isalnum()])\n",
        "        first = 0\n",
        "        last = len(s) - 1\n",
        "        while first < last:\n",
        "          if s[first] != s[last]:\n",
        "            is_palin = False\n",
        "            return is_palin\n",
        "          else:\n",
        "            first += 1\n",
        "            last -= 1\n",
        "        return is_palin\n",
        "\n",
        "\n",
        "s1 = \"A man, a plan, a canal: Panama\"\n",
        "s2 = \"race a car\"\n",
        "\n",
        "# print(f'{s1} is a Palindrome ?: {isPalindrome(s1)}')\n",
        "print(f'{s2} is a Palindrome ?: {isPalindrome(s2)}')\n",
        "\n",
        "\n"
      ],
      "metadata": {
        "colab": {
          "base_uri": "https://localhost:8080/"
        },
        "id": "-9NcywD0bVOl",
        "outputId": "83131c3c-e661-4d01-ab2d-d2e4aae378e5"
      },
      "execution_count": 14,
      "outputs": [
        {
          "output_type": "stream",
          "name": "stdout",
          "text": [
            "race a car is a Palindrome ?: False\n"
          ]
        }
      ]
    },
    {
      "cell_type": "code",
      "source": [
        "def isPalindrome(s):\n",
        "    # Convert the string to lowercase and remove non-alphanumeric characters\n",
        "    s = ''.join(c.lower() for c in s if c.isalnum())\n",
        "\n",
        "    # Initialize pointers for start and end of the string\n",
        "    left, right = 0, len(s) - 1\n",
        "\n",
        "    # Iterate until the pointers meet in the middle\n",
        "    while left < right:\n",
        "        # If characters at left and right pointers are different, return False\n",
        "        if s[left] != s[right]:\n",
        "            return False\n",
        "        # Move pointers towards the middle\n",
        "        left += 1\n",
        "        right -= 1\n",
        "\n",
        "    # If the loop completes without returning False, the string is a palindrome\n",
        "    return True\n",
        "\n",
        "# Example usage:\n",
        "print(isPalindrome(\"A man, a plan, a canal: Panama\"))  # Output: True\n",
        "print(isPalindrome(\"race a car\"))                    # Output: False\n"
      ],
      "metadata": {
        "colab": {
          "base_uri": "https://localhost:8080/"
        },
        "id": "OIo28Ad61AqI",
        "outputId": "a122379e-db07-4926-ef0e-e978adcfa010"
      },
      "execution_count": 11,
      "outputs": [
        {
          "output_type": "stream",
          "name": "stdout",
          "text": [
            "True\n",
            "False\n"
          ]
        }
      ]
    },
    {
      "cell_type": "markdown",
      "source": [
        "# Merge two lists\n",
        "\n",
        "i/p: 1->2->4 and 1->3->4\n",
        "\n",
        "o/p: 1 1 2 3 4 4"
      ],
      "metadata": {
        "id": "Egd7XO0D2LyB"
      }
    },
    {
      "cell_type": "code",
      "source": [
        "class ListNode:\n",
        "    def __init__(self, val=0, next=None):\n",
        "        self.val = val\n",
        "        self.next = next\n",
        "\n",
        "def mergeTwoLists(l1, l2):\n",
        "    dummy = ListNode()\n",
        "    current = dummy\n",
        "\n",
        "    # Iterate through both lists simultaneously\n",
        "    while l1 and l2:\n",
        "        # Append the smaller node to the merged list\n",
        "        if l1.val <= l2.val:\n",
        "            current.next = l1\n",
        "            l1 = l1.next\n",
        "        else:\n",
        "            current.next = l2\n",
        "            l2 = l2.next\n",
        "        # Move the current pointer forward\n",
        "        current = current.next\n",
        "\n",
        "    # Append the remaining nodes of the non-empty list\n",
        "    if l1:\n",
        "        current.next = l1\n",
        "    else:\n",
        "        current.next = l2\n",
        "\n",
        "    # Return the head of the merged list\n",
        "    return dummy.next\n",
        "\n",
        "# Example usage:\n",
        "# Create linked lists: 1->2->4 and 1->3->4\n",
        "list1 = ListNode(1, ListNode(2, ListNode(4)))\n",
        "list2 = ListNode(1, ListNode(3, ListNode(4)))\n",
        "merged_list = mergeTwoLists(list1, list2)\n",
        "\n",
        "# Print the merged list\n",
        "while merged_list:\n",
        "    print(merged_list.val, end=\" \")\n",
        "    merged_list = merged_list.next\n",
        "# Output: 1 1 2 3 4 4\n"
      ],
      "metadata": {
        "id": "WR5EssRR2e7h",
        "colab": {
          "base_uri": "https://localhost:8080/"
        },
        "outputId": "1c088ee8-2701-4481-8eb9-5e4ec2f19001"
      },
      "execution_count": 1,
      "outputs": [
        {
          "output_type": "stream",
          "name": "stdout",
          "text": [
            "1 1 2 3 4 4 "
          ]
        }
      ]
    },
    {
      "cell_type": "markdown",
      "source": [
        "# Is isomorphic?\n",
        "\n",
        "For example:\n",
        "\n",
        "\"egg\" and \"add\" are isomorphic because 'e' can be mapped to 'a' and 'g' can be mapped to 'd'.\n",
        "\n",
        "\"foo\" and \"bar\" are not isomorphic because there is no consistent mapping between their characters.\n",
        "\n",
        "\"paper\" and \"title\" are isomorphic because 'p' can be mapped to 't', 'a' to 'i', 'e' to 'l', and 'r' to 'e'."
      ],
      "metadata": {
        "id": "pKdOKM6mlNwM"
      }
    },
    {
      "cell_type": "code",
      "source": [
        "def isIsomorphic(s, t):\n",
        "    if len(s) != len(t):\n",
        "        return False\n",
        "\n",
        "    s_to_t = {}\n",
        "    t_to_s = {}\n",
        "\n",
        "    for char_s, char_t in zip(s, t):\n",
        "        if char_s in s_to_t and s_to_t[char_s] != char_t:\n",
        "            return False\n",
        "        if char_t in t_to_s and t_to_s[char_t] != char_s:\n",
        "            return False\n",
        "        s_to_t[char_s] = char_t\n",
        "        t_to_s[char_t] = char_s\n",
        "\n",
        "    return True\n",
        "\n",
        "\n",
        "# Example usage:\n",
        "print(isIsomorphic(\"egg\", \"add\"))  # Output: True\n",
        "print(isIsomorphic(\"foo\", \"bar\"))  # Output: False\n",
        "print(isIsomorphic(\"paper\", \"title\"))  # Output: True\n",
        "print(isIsomorphic(\"egg\", \"edd\")) # Output: True\n",
        "print(isIsomorphic(\"egg\", \"eee\"))  # Output: False"
      ],
      "metadata": {
        "colab": {
          "base_uri": "https://localhost:8080/"
        },
        "id": "2JTk7NCdlTqA",
        "outputId": "71c8b270-d07f-41a0-82f8-7c60b197e28b"
      },
      "execution_count": 1,
      "outputs": [
        {
          "output_type": "stream",
          "name": "stdout",
          "text": [
            "True\n",
            "False\n",
            "True\n",
            "True\n",
            "False\n"
          ]
        }
      ]
    }
  ]
}