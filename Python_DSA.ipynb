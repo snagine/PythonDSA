{
  "nbformat": 4,
  "nbformat_minor": 0,
  "metadata": {
    "colab": {
      "provenance": []
    },
    "kernelspec": {
      "name": "python3",
      "display_name": "Python 3"
    },
    "language_info": {
      "name": "python"
    }
  },
  "cells": [
    {
      "cell_type": "code",
      "execution_count": null,
      "metadata": {
        "id": "Kcsci80g2Fu5"
      },
      "outputs": [],
      "source": [
        "This notebook is for **Python DSA** 🌼"
      ]
    },
    {
      "cell_type": "markdown",
      "source": [
        "**Selection Sort**\n",
        "Time complexity O(n2)\n",
        "Space complexity O(1)"
      ],
      "metadata": {
        "id": "hAiQsCJ02NI-"
      }
    },
    {
      "cell_type": "code",
      "source": [
        "def selection_sort(l):\n",
        "\n",
        "  for i in range(len(l)):\n",
        "    for j in range(i+1,len(l)):\n",
        "      if l[i] > l[j] :\n",
        "        l[i], l[j] = l[j], l[i]\n",
        "  return l\n",
        "\n",
        "l = [7, 6, 3, 9, 2, 4, 1]\n",
        "print(selection_sort(l))"
      ],
      "metadata": {
        "colab": {
          "base_uri": "https://localhost:8080/"
        },
        "id": "plRw6SQe2TMA",
        "outputId": "c6338d84-c6df-4398-a817-9f9f2f725fca"
      },
      "execution_count": 1,
      "outputs": [
        {
          "output_type": "stream",
          "name": "stdout",
          "text": [
            "[1, 2, 3, 4, 6, 7, 9]\n"
          ]
        }
      ]
    },
    {
      "cell_type": "markdown",
      "source": [],
      "metadata": {
        "id": "Egd7XO0D2LyB"
      }
    }
  ]
}