{
  "nbformat": 4,
  "nbformat_minor": 0,
  "metadata": {
    "colab": {
      "provenance": [],
      "mount_file_id": "1gW1Q9rfhoZ5j7Fxgq1P9uaMPnyuOQcWe",
      "authorship_tag": "ABX9TyNdQL3dSD4YYwBYqhA6Dpv9",
      "include_colab_link": true
    },
    "kernelspec": {
      "name": "python3",
      "display_name": "Python 3"
    },
    "language_info": {
      "name": "python"
    }
  },
  "cells": [
    {
      "cell_type": "markdown",
      "metadata": {
        "id": "view-in-github",
        "colab_type": "text"
      },
      "source": [
        "<a href=\"https://colab.research.google.com/github/snagine/PythonDSA/blob/main/Pandas_practice.ipynb\" target=\"_parent\"><img src=\"https://colab.research.google.com/assets/colab-badge.svg\" alt=\"Open In Colab\"/></a>"
      ]
    },
    {
      "cell_type": "markdown",
      "source": [
        "Dataframe practice"
      ],
      "metadata": {
        "id": "2Hk1PZrVEP7f"
      }
    },
    {
      "cell_type": "markdown",
      "source": [
        "Pandas - Practice"
      ],
      "metadata": {
        "id": "uu008yR8y-jI"
      }
    },
    {
      "cell_type": "markdown",
      "source": [],
      "metadata": {
        "id": "Zvxx0QOUENV0"
      }
    },
    {
      "cell_type": "code",
      "source": [
        "import numpy as np\n",
        "import pandas as pd\n",
        "\n",
        "df = pd.read_csv(\"sample_data/books.csv\")\n",
        "print(df.columns)\n",
        "#print(df.dtypes)\n",
        "#print(ds1.describe)\n",
        "#print(ds1.shape)\n",
        "\n",
        "# find the rows where 'average_rating' is greater than 4\n",
        "df[df['average_rating']>4].shape\n",
        "\n",
        "# find number of rows where average_rating is more than 4.5 and ratings_count is less than 10\n",
        "((df['average_rating'] > 4.5) & (df['ratings_count'] < 10)).shape\n",
        "\n",
        "# find the mean of average_rating where language_code is 'Eng' ?\n",
        "df.groupby('language_code')['average_rating'].mean()\n",
        "\n",
        "# slice: 4 rows, 3 columns\n",
        "df.iloc[0:5,0:4]\n",
        "\n",
        "# selected columns for 1st and 4th row\n",
        "df.loc[[1,4],['language_code', 'num_pages', 'ratings_count']]\n",
        "\n",
        "# find the mean of column 'num_pages'\n",
        "df['num_pages'].mean()\n",
        "\n",
        "# find the number of books published in year 2010\n",
        "df[df['year']==2010].shape[0]\n",
        "\n",
        "#authors listed below have published books with ‘DAW’ publications and have an average_rating of greater than 4\n",
        "pd.unique(df[(df['publisher'] == 'DAW') & (df['average_rating'] > 4)]['author'])\n",
        "\n",
        "#How many books with more than 500 pages were published after 2010\n",
        "df[(df['num_pages'] > 500) & (df['year'] >2010)].shape[0]\n",
        "\n",
        "#How many books have been written by Agatha Christie?\n",
        "df[(df['author'] == 'Agatha Christie')].shape[0]\n",
        "\n",
        "#How many books were published in Spanish (language_code ‘spa’) after the year 2000?\n",
        "df[(df['language_code'] == 'spa') & (df['year'] > 2000)].shape[0]\n"
      ],
      "metadata": {
        "colab": {
          "base_uri": "https://localhost:8080/"
        },
        "id": "LVu82YGzzCMC",
        "outputId": "f24b21d2-aa59-4517-d1cf-4e664f77b7b4"
      },
      "execution_count": 43,
      "outputs": [
        {
          "output_type": "stream",
          "name": "stdout",
          "text": [
            "Index(['title', 'author', 'average_rating', 'isbn13', 'language_code',\n",
            "       'num_pages', 'ratings_count', 'text_reviews_count', 'publisher',\n",
            "       'year'],\n",
            "      dtype='object')\n"
          ]
        },
        {
          "output_type": "execute_result",
          "data": {
            "text/plain": [
              "84"
            ]
          },
          "metadata": {},
          "execution_count": 43
        }
      ]
    }
  ]
}