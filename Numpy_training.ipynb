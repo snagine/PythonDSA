{
  "nbformat": 4,
  "nbformat_minor": 0,
  "metadata": {
    "colab": {
      "provenance": [],
      "mount_file_id": "1AIGrINwhVqzs-7-sWSnfzuRETQNqp1sm",
      "authorship_tag": "ABX9TyO6WJNX22+KEKDiU3wU2r5B",
      "include_colab_link": true
    },
    "kernelspec": {
      "name": "python3",
      "display_name": "Python 3"
    },
    "language_info": {
      "name": "python"
    }
  },
  "cells": [
    {
      "cell_type": "markdown",
      "metadata": {
        "id": "view-in-github",
        "colab_type": "text"
      },
      "source": [
        "<a href=\"https://colab.research.google.com/github/snagine/PythonDSA/blob/main/Numpy_training.ipynb\" target=\"_parent\"><img src=\"https://colab.research.google.com/assets/colab-badge.svg\" alt=\"Open In Colab\"/></a>"
      ]
    },
    {
      "cell_type": "code",
      "execution_count": null,
      "metadata": {
        "id": "rTdCaZVVtfNA",
        "colab": {
          "base_uri": "https://localhost:8080/"
        },
        "outputId": "326bb9de-484f-4e40-82b6-3d43a3d9c8d8"
      },
      "outputs": [
        {
          "output_type": "stream",
          "name": "stdout",
          "text": [
            "[[0 1 2]\n",
            " [3 4 5]\n",
            " [6 7 8]]\n",
            "(3, 3)\n",
            "5\n",
            "[3 4 5]\n",
            "[2 5 8]\n",
            "[[ 6  8]\n",
            " [10 12]]\n",
            "[[19 22]\n",
            " [43 50]]\n",
            "-2.0000000000000004\n",
            "[[-2.   1. ]\n",
            " [ 1.5 -0.5]]\n"
          ]
        }
      ],
      "source": [
        "# prompt: Numpy practice\n",
        "\n",
        "import numpy as np\n",
        "\n",
        "# Create a 3x3 matrix with values ranging from 0 to 8\n",
        "matrix = np.arange(9).reshape(3, 3)\n",
        "\n",
        "# Print the matrix\n",
        "print(matrix)\n",
        "\n",
        "# Print the shape of the matrix\n",
        "print(matrix.shape)\n",
        "\n",
        "# Access the element at row 1, column 2\n",
        "print(matrix[1, 2])\n",
        "\n",
        "# Access the second row\n",
        "print(matrix[1, :])\n",
        "\n",
        "# Access the third column\n",
        "print(matrix[:, 2])\n",
        "\n",
        "# Add two matrices\n",
        "matrix1 = np.array([[1, 2], [3, 4]])\n",
        "matrix2 = np.array([[5, 6], [7, 8]])\n",
        "print(matrix1 + matrix2)\n",
        "\n",
        "# Multiply two matrices\n",
        "print(matrix1 @ matrix2)\n",
        "\n",
        "# Calculate the determinant of a matrix\n",
        "matrix3 = np.array([[1, 2], [3, 4]])\n",
        "print(np.linalg.det(matrix3))\n",
        "\n",
        "# Calculate the inverse of a matrix\n",
        "print(np.linalg.inv(matrix3))\n"
      ]
    },
    {
      "cell_type": "code",
      "source": [
        "import numpy as np\n",
        "\n",
        "a = np.array([[1,2,3], [2,3,4], [3,4,5]])\n",
        "a[:,2] = [6,7,8]\n",
        "print(a[:,2])\n",
        "print(a)\n"
      ],
      "metadata": {
        "colab": {
          "base_uri": "https://localhost:8080/"
        },
        "id": "iC7hWZ0Gyepu",
        "outputId": "aaaee1e6-fb74-42de-81c2-3022cb94964d"
      },
      "execution_count": null,
      "outputs": [
        {
          "output_type": "stream",
          "name": "stdout",
          "text": [
            "[6 7 8]\n",
            "[[1 2 6]\n",
            " [2 3 7]\n",
            " [3 4 8]]\n"
          ]
        }
      ]
    },
    {
      "cell_type": "code",
      "source": [
        "b = np.arange(9).reshape(3,3)\n",
        "print(b)\n",
        "# print(b.shape)\n",
        "# print(b[:1]) # print 2nd column with all the rows\n",
        "# print(b[:]) # print whole matrix\n",
        "# print(b[1:]) # print 2nd row onwards with all the column elements [[3,4,5],[6,78]]\n",
        "# print(b[1,:])# print 2nd row onwards with all the column elements [3,4,5]\n",
        "\n",
        "print(b[1::2,::2]) # print 3,5 , logic: start from 1st row, skip 2nd element, start from 0th till end skip 2nd element"
      ],
      "metadata": {
        "colab": {
          "base_uri": "https://localhost:8080/"
        },
        "id": "wwQ_5Ja61TUu",
        "outputId": "95dc6535-e953-452a-ad58-ffc68da88a17"
      },
      "execution_count": null,
      "outputs": [
        {
          "output_type": "stream",
          "name": "stdout",
          "text": [
            "[[0 1 2]\n",
            " [3 4 5]\n",
            " [6 7 8]]\n",
            "[[3 5]]\n"
          ]
        }
      ]
    }
  ]
}